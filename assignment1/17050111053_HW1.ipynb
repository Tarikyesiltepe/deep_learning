{
 "cells": [
  {
   "cell_type": "markdown",
   "metadata": {},
   "source": [
    "## Question 1"
   ]
  },
  {
   "cell_type": "code",
   "execution_count": 104,
   "metadata": {},
   "outputs": [],
   "source": [
    "import pandas as pd\n",
    "import numpy as np\n",
    "from matplotlib import pyplot as plt\n",
    "from sklearn.datasets import make_classification\n",
    "import seaborn as sns\n",
    "from sklearn.metrics import accuracy_score\n",
    "import warnings\n",
    "warnings.filterwarnings(\"ignore\")"
   ]
  },
  {
   "cell_type": "code",
   "execution_count": 105,
   "metadata": {},
   "outputs": [],
   "source": [
    "X, Y = make_classification(n_samples = 100,n_features=2, n_redundant = 0, n_informative=2,flip_y = 0.1,scale = 2)"
   ]
  },
  {
   "cell_type": "code",
   "execution_count": 120,
   "metadata": {},
   "outputs": [],
   "source": [
    "#preparing data\n",
    "\n",
    "df_dic = {\"X1\":X[:,0]\n",
    "         ,\"X2\":X[:,1]\n",
    "         ,\"Y\":Y}\n",
    "\n",
    "df = pd.DataFrame(df_dic)"
   ]
  },
  {
   "cell_type": "code",
   "execution_count": 121,
   "metadata": {},
   "outputs": [
    {
     "data": {
      "text/html": [
       "<div>\n",
       "<style scoped>\n",
       "    .dataframe tbody tr th:only-of-type {\n",
       "        vertical-align: middle;\n",
       "    }\n",
       "\n",
       "    .dataframe tbody tr th {\n",
       "        vertical-align: top;\n",
       "    }\n",
       "\n",
       "    .dataframe thead th {\n",
       "        text-align: right;\n",
       "    }\n",
       "</style>\n",
       "<table border=\"1\" class=\"dataframe\">\n",
       "  <thead>\n",
       "    <tr style=\"text-align: right;\">\n",
       "      <th></th>\n",
       "      <th>X1</th>\n",
       "      <th>X2</th>\n",
       "      <th>Y</th>\n",
       "    </tr>\n",
       "  </thead>\n",
       "  <tbody>\n",
       "    <tr>\n",
       "      <th>0</th>\n",
       "      <td>2.530466</td>\n",
       "      <td>-0.932126</td>\n",
       "      <td>1</td>\n",
       "    </tr>\n",
       "    <tr>\n",
       "      <th>1</th>\n",
       "      <td>2.298602</td>\n",
       "      <td>-1.613067</td>\n",
       "      <td>1</td>\n",
       "    </tr>\n",
       "    <tr>\n",
       "      <th>2</th>\n",
       "      <td>-1.722616</td>\n",
       "      <td>-1.311474</td>\n",
       "      <td>0</td>\n",
       "    </tr>\n",
       "    <tr>\n",
       "      <th>3</th>\n",
       "      <td>2.886867</td>\n",
       "      <td>-0.345543</td>\n",
       "      <td>1</td>\n",
       "    </tr>\n",
       "    <tr>\n",
       "      <th>4</th>\n",
       "      <td>2.067114</td>\n",
       "      <td>3.273008</td>\n",
       "      <td>1</td>\n",
       "    </tr>\n",
       "  </tbody>\n",
       "</table>\n",
       "</div>"
      ],
      "text/plain": [
       "         X1        X2  Y\n",
       "0  2.530466 -0.932126  1\n",
       "1  2.298602 -1.613067  1\n",
       "2 -1.722616 -1.311474  0\n",
       "3  2.886867 -0.345543  1\n",
       "4  2.067114  3.273008  1"
      ]
     },
     "execution_count": 121,
     "metadata": {},
     "output_type": "execute_result"
    }
   ],
   "source": [
    "df.head()"
   ]
  },
  {
   "cell_type": "code",
   "execution_count": 122,
   "metadata": {},
   "outputs": [],
   "source": [
    "df[\"Y\"][df[\"X2\"] < 0] = -1"
   ]
  },
  {
   "cell_type": "code",
   "execution_count": 123,
   "metadata": {},
   "outputs": [
    {
     "data": {
      "text/html": [
       "<div>\n",
       "<style scoped>\n",
       "    .dataframe tbody tr th:only-of-type {\n",
       "        vertical-align: middle;\n",
       "    }\n",
       "\n",
       "    .dataframe tbody tr th {\n",
       "        vertical-align: top;\n",
       "    }\n",
       "\n",
       "    .dataframe thead th {\n",
       "        text-align: right;\n",
       "    }\n",
       "</style>\n",
       "<table border=\"1\" class=\"dataframe\">\n",
       "  <thead>\n",
       "    <tr style=\"text-align: right;\">\n",
       "      <th></th>\n",
       "      <th>X1</th>\n",
       "      <th>X2</th>\n",
       "      <th>Y</th>\n",
       "    </tr>\n",
       "  </thead>\n",
       "  <tbody>\n",
       "    <tr>\n",
       "      <th>0</th>\n",
       "      <td>2.530466</td>\n",
       "      <td>-0.932126</td>\n",
       "      <td>-1</td>\n",
       "    </tr>\n",
       "    <tr>\n",
       "      <th>1</th>\n",
       "      <td>2.298602</td>\n",
       "      <td>-1.613067</td>\n",
       "      <td>-1</td>\n",
       "    </tr>\n",
       "    <tr>\n",
       "      <th>2</th>\n",
       "      <td>-1.722616</td>\n",
       "      <td>-1.311474</td>\n",
       "      <td>-1</td>\n",
       "    </tr>\n",
       "    <tr>\n",
       "      <th>3</th>\n",
       "      <td>2.886867</td>\n",
       "      <td>-0.345543</td>\n",
       "      <td>-1</td>\n",
       "    </tr>\n",
       "    <tr>\n",
       "      <th>4</th>\n",
       "      <td>2.067114</td>\n",
       "      <td>3.273008</td>\n",
       "      <td>1</td>\n",
       "    </tr>\n",
       "  </tbody>\n",
       "</table>\n",
       "</div>"
      ],
      "text/plain": [
       "         X1        X2  Y\n",
       "0  2.530466 -0.932126 -1\n",
       "1  2.298602 -1.613067 -1\n",
       "2 -1.722616 -1.311474 -1\n",
       "3  2.886867 -0.345543 -1\n",
       "4  2.067114  3.273008  1"
      ]
     },
     "execution_count": 123,
     "metadata": {},
     "output_type": "execute_result"
    }
   ],
   "source": [
    "df.head()"
   ]
  },
  {
   "cell_type": "code",
   "execution_count": 124,
   "metadata": {},
   "outputs": [
    {
     "data": {
      "text/plain": [
       "-1    49\n",
       " 0    27\n",
       " 1    24\n",
       "Name: Y, dtype: int64"
      ]
     },
     "execution_count": 124,
     "metadata": {},
     "output_type": "execute_result"
    }
   ],
   "source": [
    "df[\"Y\"].value_counts()"
   ]
  },
  {
   "cell_type": "code",
   "execution_count": 125,
   "metadata": {},
   "outputs": [
    {
     "data": {
      "image/png": "[encoded data removed]",
      "text/plain": [
       "<Figure size 720x576 with 1 Axes>"
      ]
     },
     "metadata": {
      "needs_background": "light"
     },
     "output_type": "display_data"
    }
   ],
   "source": [
    "#visualization of data\n",
    "plt.figure(figsize = (10,8))\n",
    "plt.scatter(df[df[\"Y\"] == 1][\"X1\"],df[df[\"Y\"] == 1][\"X2\"],marker = \"+\",s = 150, c = \"orange\")\n",
    "plt.scatter(df[df[\"Y\"] == 0][\"X1\"],df[df[\"Y\"] == 0][\"X2\"],marker = \"_\",s = 150,c = \"g\");\n",
    "plt.scatter(df[df[\"Y\"] == -1][\"X1\"],df[df[\"Y\"] == -1][\"X2\"],marker = \"o\",s = 120,c = \"r\");"
   ]
  },
  {
   "cell_type": "code",
   "execution_count": 548,
   "metadata": {},
   "outputs": [
    {
     "data": {
      "text/plain": [
       " 1    51\n",
       "-1    49\n",
       "Name: Y, dtype: int64"
      ]
     },
     "execution_count": 548,
     "metadata": {},
     "output_type": "execute_result"
    }
   ],
   "source": [
    "# CHECKING NUMBER OF CLASSES SAME OR NOT\n",
    "df[\"Y\"].value_counts()"
   ]
  },
  {
   "cell_type": "code",
   "execution_count": 549,
   "metadata": {},
   "outputs": [],
   "source": [
    "# initializing some parameters\n",
    "\n",
    "learning_rate = 0.001 #learning rate\n",
    "\n",
    "number_of_data = df.shape[0] #number of data"
   ]
  },
  {
   "cell_type": "code",
   "execution_count": 550,
   "metadata": {},
   "outputs": [
    {
     "data": {
      "text/plain": [
       "array([-1,  1,  1,  1, -1, -1,  1, -1,  1,  1,  1,  1, -1,  1,  1,  1, -1,\n",
       "        1,  1,  1,  1, -1,  1, -1, -1,  1,  1, -1, -1,  1, -1,  1, -1, -1,\n",
       "       -1, -1, -1, -1,  1, -1, -1, -1,  1, -1, -1, -1, -1,  1,  1,  1,  1,\n",
       "       -1,  1, -1, -1, -1, -1, -1,  1,  1,  1,  1,  1,  1,  1, -1,  1,  1,\n",
       "        1,  1,  1, -1, -1, -1, -1,  1,  1,  1,  1, -1, -1, -1,  1, -1, -1,\n",
       "        1, -1,  1, -1, -1, -1,  1,  1, -1,  1, -1,  1, -1,  1, -1])"
      ]
     },
     "execution_count": 550,
     "metadata": {},
     "output_type": "execute_result"
    }
   ],
   "source": [
    "#preparing data\n",
    "X = df.drop(\"Y\",axis = 1)\n",
    "Y = df[\"Y\"].to_numpy()\n",
    "Y"
   ]
  },
  {
   "cell_type": "code",
   "execution_count": 551,
   "metadata": {},
   "outputs": [],
   "source": [
    "#filter function for determining -1 or 1 \n",
    "def filter_(x):\n",
    "    if(x >= 0):\n",
    "        return 1\n",
    "    else:\n",
    "        return -1"
   ]
  },
  {
   "cell_type": "markdown",
   "metadata": {},
   "source": [
    "## Question 2"
   ]
  },
  {
   "cell_type": "markdown",
   "metadata": {},
   "source": [
    "### SEQUENTIAL MODE"
   ]
  },
  {
   "cell_type": "code",
   "execution_count": 552,
   "metadata": {},
   "outputs": [],
   "source": [
    "seq_w = np.full((df.shape[1] - 1,1),0.01) #weights of sequential mode\n",
    "\n",
    "seq_bias = 0.5 #bias term of sequential mode\n",
    "\n",
    "seq_w_ = np.concatenate([[[seq_bias]],seq_w],axis = 0) #vector form of weights\n",
    "\n",
    "number_of_iteration = 500\n",
    "\n",
    "seq_acc_scores = []"
   ]
  },
  {
   "cell_type": "code",
   "execution_count": 553,
   "metadata": {},
   "outputs": [
    {
     "name": "stdout",
     "output_type": "stream",
     "text": [
      "Accuracy without training in sequential mode = 0.51\n"
     ]
    }
   ],
   "source": [
    "#accuracy without training\n",
    "\n",
    "X_ = np.c_[np.ones((X.shape[0], 1)), X.to_numpy()] \n",
    "\n",
    "y_head = X_.dot(seq_w_)\n",
    "\n",
    "y_pred = np.array(list(map(filter_,y_head[0,:])))\n",
    "\n",
    "correct_list = (y_pred == Y)\n",
    "\n",
    "correct_size = len(correct_list[correct_list == True])\n",
    "\n",
    "print(\"Accuracy without training in sequential mode = %.2f\" % (correct_size/number_of_data))"
   ]
  },
  {
   "cell_type": "code",
   "execution_count": 554,
   "metadata": {},
   "outputs": [],
   "source": [
    "# forward propagation of sequential mode\n",
    "def seq_forward_propagation(seq_w_,X_column):\n",
    "    y_head = np.dot(seq_w_.T,X_column) \n",
    "    return y_head[0,0]"
   ]
  },
  {
   "cell_type": "code",
   "execution_count": 555,
   "metadata": {},
   "outputs": [],
   "source": [
    "def seq_model(X, Y, learning_rate,number_of_iterarion,seq_w_):\n",
    "    \n",
    "    epoch = 0\n",
    "    correct = 0\n",
    "    j = 0 #indexes\n",
    "    \n",
    "    for i in range(1,number_of_iterarion + 1):\n",
    "       \n",
    "        column = X.to_numpy()[j,:].reshape((X.shape[1],1)) # arranging of X vector\n",
    "        X_column = np.concatenate([[[1]],column],axis = 0) # arranging of X vector\n",
    "        \n",
    "        y_head = seq_forward_propagation(seq_w_,X_column) # results of sequential mode\n",
    "       \n",
    "        if (1 if y_head >= 0 else -1) == Y[j]: #comparing with orijinal results\n",
    "            correct = correct + 1\n",
    "            \n",
    "        print (\"Iteration Number = %i, Epoch Number = %i, Accuracy: %.2f \" %(i, epoch + 1,(correct/i)))\n",
    "        seq_acc_scores.append(correct / i)\n",
    "        \n",
    "        seq_w_ = seq_w_ - learning_rate * (y_head - Y[j]) * X_column #updating weights\n",
    "        \n",
    "        if i % 100 == 0: #updating epoch number\n",
    "            epoch = epoch + 1\n",
    "            j = 0\n",
    "        else:\n",
    "            j = j + 1\n",
    "            \n",
    "    return seq_acc_scores,epoch,seq_w_"
   ]
  },
  {
   "cell_type": "code",
   "execution_count": 556,
   "metadata": {
    "collapsed": true,
    "jupyter": {
     "outputs_hidden": true
    }
   },
   "outputs": [
    {
     "name": "stdout",
     "output_type": "stream",
     "text": [
      "Iteration Number = 1, Epoch Number = 1, Accuracy: 0.00 \n",
      "Iteration Number = 2, Epoch Number = 1, Accuracy: 0.50 \n",
      "Iteration Number = 3, Epoch Number = 1, Accuracy: 0.67 \n",
      "Iteration Number = 4, Epoch Number = 1, Accuracy: 0.75 \n",
      "Iteration Number = 5, Epoch Number = 1, Accuracy: 0.60 \n",
      "Iteration Number = 6, Epoch Number = 1, Accuracy: 0.50 \n",
      "Iteration Number = 7, Epoch Number = 1, Accuracy: 0.57 \n",
      "Iteration Number = 8, Epoch Number = 1, Accuracy: 0.50 \n",
      "Iteration Number = 9, Epoch Number = 1, Accuracy: 0.56 \n",
      "Iteration Number = 10, Epoch Number = 1, Accuracy: 0.60 \n",
      "Iteration Number = 11, Epoch Number = 1, Accuracy: 0.64 \n",
      "Iteration Number = 12, Epoch Number = 1, Accuracy: 0.67 \n",
      "Iteration Number = 13, Epoch Number = 1, Accuracy: 0.62 \n",
      "Iteration Number = 14, Epoch Number = 1, Accuracy: 0.64 \n",
      "Iteration Number = 15, Epoch Number = 1, Accuracy: 0.67 \n",
      "Iteration Number = 16, Epoch Number = 1, Accuracy: 0.69 \n",
      "Iteration Number = 17, Epoch Number = 1, Accuracy: 0.65 \n",
      "Iteration Number = 18, Epoch Number = 1, Accuracy: 0.67 \n",
      "Iteration Number = 19, Epoch Number = 1, Accuracy: 0.68 \n",
      "Iteration Number = 20, Epoch Number = 1, Accuracy: 0.70 \n",
      "Iteration Number = 21, Epoch Number = 1, Accuracy: 0.71 \n",
      "Iteration Number = 22, Epoch Number = 1, Accuracy: 0.68 \n",
      "Iteration Number = 23, Epoch Number = 1, Accuracy: 0.70 \n",
      "Iteration Number = 24, Epoch Number = 1, Accuracy: 0.67 \n",
      "Iteration Number = 25, Epoch Number = 1, Accuracy: 0.64 \n",
      "Iteration Number = 26, Epoch Number = 1, Accuracy: 0.65 \n",
      "Iteration Number = 27, Epoch Number = 1, Accuracy: 0.67 \n",
      "Iteration Number = 28, Epoch Number = 1, Accuracy: 0.64 \n",
      "Iteration Number = 29, Epoch Number = 1, Accuracy: 0.62 \n",
      "Iteration Number = 30, Epoch Number = 1, Accuracy: 0.63 \n",
      "Iteration Number = 31, Epoch Number = 1, Accuracy: 0.61 \n",
      "Iteration Number = 32, Epoch Number = 1, Accuracy: 0.62 \n",
      "Iteration Number = 33, Epoch Number = 1, Accuracy: 0.61 \n",
      "Iteration Number = 34, Epoch Number = 1, Accuracy: 0.59 \n",
      "Iteration Number = 35, Epoch Number = 1, Accuracy: 0.57 \n",
      "Iteration Number = 36, Epoch Number = 1, Accuracy: 0.56 \n",
      "Iteration Number = 37, Epoch Number = 1, Accuracy: 0.54 \n",
      "Iteration Number = 38, Epoch Number = 1, Accuracy: 0.53 \n",
      "Iteration Number = 39, Epoch Number = 1, Accuracy: 0.54 \n",
      "Iteration Number = 40, Epoch Number = 1, Accuracy: 0.53 \n",
      "Iteration Number = 41, Epoch Number = 1, Accuracy: 0.51 \n",
      "Iteration Number = 42, Epoch Number = 1, Accuracy: 0.50 \n",
      "Iteration Number = 43, Epoch Number = 1, Accuracy: 0.51 \n",
      "Iteration Number = 44, Epoch Number = 1, Accuracy: 0.50 \n",
      "Iteration Number = 45, Epoch Number = 1, Accuracy: 0.49 \n",
      "Iteration Number = 46, Epoch Number = 1, Accuracy: 0.48 \n",
      "Iteration Number = 47, Epoch Number = 1, Accuracy: 0.49 \n",
      "Iteration Number = 48, Epoch Number = 1, Accuracy: 0.50 \n",
      "Iteration Number = 49, Epoch Number = 1, Accuracy: 0.51 \n",
      "Iteration Number = 50, Epoch Number = 1, Accuracy: 0.52 \n",
      "Iteration Number = 51, Epoch Number = 1, Accuracy: 0.53 \n",
      "Iteration Number = 52, Epoch Number = 1, Accuracy: 0.52 \n",
      "Iteration Number = 53, Epoch Number = 1, Accuracy: 0.53 \n",
      "Iteration Number = 54, Epoch Number = 1, Accuracy: 0.52 \n",
      "Iteration Number = 55, Epoch Number = 1, Accuracy: 0.51 \n",
      "Iteration Number = 56, Epoch Number = 1, Accuracy: 0.50 \n",
      "Iteration Number = 57, Epoch Number = 1, Accuracy: 0.49 \n",
      "Iteration Number = 58, Epoch Number = 1, Accuracy: 0.48 \n",
      "Iteration Number = 59, Epoch Number = 1, Accuracy: 0.49 \n",
      "Iteration Number = 60, Epoch Number = 1, Accuracy: 0.50 \n",
      "Iteration Number = 61, Epoch Number = 1, Accuracy: 0.51 \n",
      "Iteration Number = 62, Epoch Number = 1, Accuracy: 0.52 \n",
      "Iteration Number = 63, Epoch Number = 1, Accuracy: 0.52 \n",
      "Iteration Number = 64, Epoch Number = 1, Accuracy: 0.53 \n",
      "Iteration Number = 65, Epoch Number = 1, Accuracy: 0.54 \n",
      "Iteration Number = 66, Epoch Number = 1, Accuracy: 0.55 \n",
      "Iteration Number = 67, Epoch Number = 1, Accuracy: 0.55 \n",
      "Iteration Number = 68, Epoch Number = 1, Accuracy: 0.56 \n",
      "Iteration Number = 69, Epoch Number = 1, Accuracy: 0.57 \n",
      "Iteration Number = 70, Epoch Number = 1, Accuracy: 0.57 \n",
      "Iteration Number = 71, Epoch Number = 1, Accuracy: 0.58 \n",
      "Iteration Number = 72, Epoch Number = 1, Accuracy: 0.57 \n",
      "Iteration Number = 73, Epoch Number = 1, Accuracy: 0.56 \n",
      "Iteration Number = 74, Epoch Number = 1, Accuracy: 0.57 \n",
      "Iteration Number = 75, Epoch Number = 1, Accuracy: 0.56 \n",
      "Iteration Number = 76, Epoch Number = 1, Accuracy: 0.57 \n",
      "Iteration Number = 77, Epoch Number = 1, Accuracy: 0.57 \n",
      "Iteration Number = 78, Epoch Number = 1, Accuracy: 0.58 \n",
      "Iteration Number = 79, Epoch Number = 1, Accuracy: 0.58 \n",
      "Iteration Number = 80, Epoch Number = 1, Accuracy: 0.57 \n",
      "Iteration Number = 81, Epoch Number = 1, Accuracy: 0.57 \n",
      "Iteration Number = 82, Epoch Number = 1, Accuracy: 0.56 \n",
      "Iteration Number = 83, Epoch Number = 1, Accuracy: 0.57 \n",
      "Iteration Number = 84, Epoch Number = 1, Accuracy: 0.56 \n",
      "Iteration Number = 85, Epoch Number = 1, Accuracy: 0.55 \n",
      "Iteration Number = 86, Epoch Number = 1, Accuracy: 0.56 \n",
      "Iteration Number = 87, Epoch Number = 1, Accuracy: 0.55 \n",
      "Iteration Number = 88, Epoch Number = 1, Accuracy: 0.56 \n",
      "Iteration Number = 89, Epoch Number = 1, Accuracy: 0.56 \n",
      "Iteration Number = 90, Epoch Number = 1, Accuracy: 0.57 \n",
      "Iteration Number = 91, Epoch Number = 1, Accuracy: 0.56 \n",
      "Iteration Number = 92, Epoch Number = 1, Accuracy: 0.57 \n",
      "Iteration Number = 93, Epoch Number = 1, Accuracy: 0.57 \n",
      "Iteration Number = 94, Epoch Number = 1, Accuracy: 0.56 \n",
      "Iteration Number = 95, Epoch Number = 1, Accuracy: 0.57 \n",
      "Iteration Number = 96, Epoch Number = 1, Accuracy: 0.56 \n",
      "Iteration Number = 97, Epoch Number = 1, Accuracy: 0.57 \n",
      "Iteration Number = 98, Epoch Number = 1, Accuracy: 0.56 \n",
      "Iteration Number = 99, Epoch Number = 1, Accuracy: 0.57 \n",
      "Iteration Number = 100, Epoch Number = 1, Accuracy: 0.56 \n",
      "Iteration Number = 101, Epoch Number = 2, Accuracy: 0.56 \n",
      "Iteration Number = 102, Epoch Number = 2, Accuracy: 0.57 \n",
      "Iteration Number = 103, Epoch Number = 2, Accuracy: 0.57 \n",
      "Iteration Number = 104, Epoch Number = 2, Accuracy: 0.58 \n",
      "Iteration Number = 105, Epoch Number = 2, Accuracy: 0.57 \n",
      "Iteration Number = 106, Epoch Number = 2, Accuracy: 0.57 \n",
      "Iteration Number = 107, Epoch Number = 2, Accuracy: 0.57 \n",
      "Iteration Number = 108, Epoch Number = 2, Accuracy: 0.56 \n",
      "Iteration Number = 109, Epoch Number = 2, Accuracy: 0.57 \n",
      "Iteration Number = 110, Epoch Number = 2, Accuracy: 0.57 \n",
      "Iteration Number = 111, Epoch Number = 2, Accuracy: 0.58 \n",
      "Iteration Number = 112, Epoch Number = 2, Accuracy: 0.58 \n",
      "Iteration Number = 113, Epoch Number = 2, Accuracy: 0.58 \n",
      "Iteration Number = 114, Epoch Number = 2, Accuracy: 0.58 \n",
      "Iteration Number = 115, Epoch Number = 2, Accuracy: 0.58 \n",
      "Iteration Number = 116, Epoch Number = 2, Accuracy: 0.59 \n",
      "Iteration Number = 117, Epoch Number = 2, Accuracy: 0.58 \n",
      "Iteration Number = 118, Epoch Number = 2, Accuracy: 0.58 \n",
      "Iteration Number = 119, Epoch Number = 2, Accuracy: 0.59 \n",
      "Iteration Number = 120, Epoch Number = 2, Accuracy: 0.59 \n",
      "Iteration Number = 121, Epoch Number = 2, Accuracy: 0.60 \n",
      "Iteration Number = 122, Epoch Number = 2, Accuracy: 0.60 \n",
      "Iteration Number = 123, Epoch Number = 2, Accuracy: 0.60 \n",
      "Iteration Number = 124, Epoch Number = 2, Accuracy: 0.60 \n",
      "Iteration Number = 125, Epoch Number = 2, Accuracy: 0.59 \n",
      "Iteration Number = 126, Epoch Number = 2, Accuracy: 0.60 \n",
      "Iteration Number = 127, Epoch Number = 2, Accuracy: 0.60 \n",
      "Iteration Number = 128, Epoch Number = 2, Accuracy: 0.59 \n",
      "Iteration Number = 129, Epoch Number = 2, Accuracy: 0.60 \n",
      "Iteration Number = 130, Epoch Number = 2, Accuracy: 0.60 \n",
      "Iteration Number = 131, Epoch Number = 2, Accuracy: 0.60 \n",
      "Iteration Number = 132, Epoch Number = 2, Accuracy: 0.59 \n",
      "Iteration Number = 133, Epoch Number = 2, Accuracy: 0.59 \n",
      "Iteration Number = 134, Epoch Number = 2, Accuracy: 0.59 \n",
      "Iteration Number = 135, Epoch Number = 2, Accuracy: 0.59 \n",
      "Iteration Number = 136, Epoch Number = 2, Accuracy: 0.59 \n",
      "Iteration Number = 137, Epoch Number = 2, Accuracy: 0.59 \n",
      "Iteration Number = 138, Epoch Number = 2, Accuracy: 0.59 \n",
      "Iteration Number = 139, Epoch Number = 2, Accuracy: 0.59 \n",
      "Iteration Number = 140, Epoch Number = 2, Accuracy: 0.59 \n",
      "Iteration Number = 141, Epoch Number = 2, Accuracy: 0.58 \n",
      "Iteration Number = 142, Epoch Number = 2, Accuracy: 0.58 \n",
      "Iteration Number = 143, Epoch Number = 2, Accuracy: 0.59 \n",
      "Iteration Number = 144, Epoch Number = 2, Accuracy: 0.59 \n",
      "Iteration Number = 145, Epoch Number = 2, Accuracy: 0.59 \n",
      "Iteration Number = 146, Epoch Number = 2, Accuracy: 0.59 \n",
      "Iteration Number = 147, Epoch Number = 2, Accuracy: 0.59 \n",
      "Iteration Number = 148, Epoch Number = 2, Accuracy: 0.59 \n",
      "Iteration Number = 149, Epoch Number = 2, Accuracy: 0.60 \n",
      "Iteration Number = 150, Epoch Number = 2, Accuracy: 0.60 \n",
      "Iteration Number = 151, Epoch Number = 2, Accuracy: 0.60 \n",
      "Iteration Number = 152, Epoch Number = 2, Accuracy: 0.60 \n",
      "Iteration Number = 153, Epoch Number = 2, Accuracy: 0.60 \n",
      "Iteration Number = 154, Epoch Number = 2, Accuracy: 0.60 \n",
      "Iteration Number = 155, Epoch Number = 2, Accuracy: 0.60 \n",
      "Iteration Number = 156, Epoch Number = 2, Accuracy: 0.60 \n",
      "Iteration Number = 157, Epoch Number = 2, Accuracy: 0.61 \n",
      "Iteration Number = 158, Epoch Number = 2, Accuracy: 0.60 \n",
      "Iteration Number = 159, Epoch Number = 2, Accuracy: 0.60 \n",
      "Iteration Number = 160, Epoch Number = 2, Accuracy: 0.61 \n",
      "Iteration Number = 161, Epoch Number = 2, Accuracy: 0.61 \n",
      "Iteration Number = 162, Epoch Number = 2, Accuracy: 0.61 \n",
      "Iteration Number = 163, Epoch Number = 2, Accuracy: 0.61 \n",
      "Iteration Number = 164, Epoch Number = 2, Accuracy: 0.62 \n",
      "Iteration Number = 165, Epoch Number = 2, Accuracy: 0.62 \n",
      "Iteration Number = 166, Epoch Number = 2, Accuracy: 0.62 \n",
      "Iteration Number = 167, Epoch Number = 2, Accuracy: 0.62 \n",
      "Iteration Number = 168, Epoch Number = 2, Accuracy: 0.62 \n",
      "Iteration Number = 169, Epoch Number = 2, Accuracy: 0.62 \n",
      "Iteration Number = 170, Epoch Number = 2, Accuracy: 0.62 \n",
      "Iteration Number = 171, Epoch Number = 2, Accuracy: 0.63 \n",
      "Iteration Number = 172, Epoch Number = 2, Accuracy: 0.63 \n",
      "Iteration Number = 173, Epoch Number = 2, Accuracy: 0.63 \n",
      "Iteration Number = 174, Epoch Number = 2, Accuracy: 0.63 \n",
      "Iteration Number = 175, Epoch Number = 2, Accuracy: 0.63 \n",
      "Iteration Number = 176, Epoch Number = 2, Accuracy: 0.64 \n",
      "Iteration Number = 177, Epoch Number = 2, Accuracy: 0.64 \n",
      "Iteration Number = 178, Epoch Number = 2, Accuracy: 0.64 \n",
      "Iteration Number = 179, Epoch Number = 2, Accuracy: 0.64 \n",
      "Iteration Number = 180, Epoch Number = 2, Accuracy: 0.64 \n",
      "Iteration Number = 181, Epoch Number = 2, Accuracy: 0.64 \n",
      "Iteration Number = 182, Epoch Number = 2, Accuracy: 0.64 \n",
      "Iteration Number = 183, Epoch Number = 2, Accuracy: 0.64 \n",
      "Iteration Number = 184, Epoch Number = 2, Accuracy: 0.64 \n",
      "Iteration Number = 185, Epoch Number = 2, Accuracy: 0.64 \n",
      "Iteration Number = 186, Epoch Number = 2, Accuracy: 0.64 \n",
      "Iteration Number = 187, Epoch Number = 2, Accuracy: 0.64 \n",
      "Iteration Number = 188, Epoch Number = 2, Accuracy: 0.64 \n",
      "Iteration Number = 189, Epoch Number = 2, Accuracy: 0.64 \n",
      "Iteration Number = 190, Epoch Number = 2, Accuracy: 0.64 \n",
      "Iteration Number = 191, Epoch Number = 2, Accuracy: 0.64 \n",
      "Iteration Number = 192, Epoch Number = 2, Accuracy: 0.65 \n",
      "Iteration Number = 193, Epoch Number = 2, Accuracy: 0.65 \n",
      "Iteration Number = 194, Epoch Number = 2, Accuracy: 0.64 \n",
      "Iteration Number = 195, Epoch Number = 2, Accuracy: 0.65 \n",
      "Iteration Number = 196, Epoch Number = 2, Accuracy: 0.64 \n",
      "Iteration Number = 197, Epoch Number = 2, Accuracy: 0.64 \n",
      "Iteration Number = 198, Epoch Number = 2, Accuracy: 0.65 \n",
      "Iteration Number = 199, Epoch Number = 2, Accuracy: 0.65 \n",
      "Iteration Number = 200, Epoch Number = 2, Accuracy: 0.65 \n",
      "Iteration Number = 201, Epoch Number = 3, Accuracy: 0.65 \n",
      "Iteration Number = 202, Epoch Number = 3, Accuracy: 0.65 \n",
      "Iteration Number = 203, Epoch Number = 3, Accuracy: 0.66 \n",
      "Iteration Number = 204, Epoch Number = 3, Accuracy: 0.66 \n",
      "Iteration Number = 205, Epoch Number = 3, Accuracy: 0.65 \n",
      "Iteration Number = 206, Epoch Number = 3, Accuracy: 0.65 \n",
      "Iteration Number = 207, Epoch Number = 3, Accuracy: 0.65 \n",
      "Iteration Number = 208, Epoch Number = 3, Accuracy: 0.65 \n",
      "Iteration Number = 209, Epoch Number = 3, Accuracy: 0.65 \n",
      "Iteration Number = 210, Epoch Number = 3, Accuracy: 0.65 \n",
      "Iteration Number = 211, Epoch Number = 3, Accuracy: 0.65 \n",
      "Iteration Number = 212, Epoch Number = 3, Accuracy: 0.66 \n",
      "Iteration Number = 213, Epoch Number = 3, Accuracy: 0.65 \n",
      "Iteration Number = 214, Epoch Number = 3, Accuracy: 0.65 \n",
      "Iteration Number = 215, Epoch Number = 3, Accuracy: 0.66 \n",
      "Iteration Number = 216, Epoch Number = 3, Accuracy: 0.66 \n",
      "Iteration Number = 217, Epoch Number = 3, Accuracy: 0.65 \n",
      "Iteration Number = 218, Epoch Number = 3, Accuracy: 0.66 \n",
      "Iteration Number = 219, Epoch Number = 3, Accuracy: 0.66 \n",
      "Iteration Number = 220, Epoch Number = 3, Accuracy: 0.66 \n",
      "Iteration Number = 221, Epoch Number = 3, Accuracy: 0.66 \n",
      "Iteration Number = 222, Epoch Number = 3, Accuracy: 0.66 \n",
      "Iteration Number = 223, Epoch Number = 3, Accuracy: 0.66 \n",
      "Iteration Number = 224, Epoch Number = 3, Accuracy: 0.66 \n",
      "Iteration Number = 225, Epoch Number = 3, Accuracy: 0.66 \n",
      "Iteration Number = 226, Epoch Number = 3, Accuracy: 0.66 \n",
      "Iteration Number = 227, Epoch Number = 3, Accuracy: 0.67 \n",
      "Iteration Number = 228, Epoch Number = 3, Accuracy: 0.66 \n",
      "Iteration Number = 229, Epoch Number = 3, Accuracy: 0.66 \n",
      "Iteration Number = 230, Epoch Number = 3, Accuracy: 0.67 \n",
      "Iteration Number = 231, Epoch Number = 3, Accuracy: 0.66 \n",
      "Iteration Number = 232, Epoch Number = 3, Accuracy: 0.66 \n",
      "Iteration Number = 233, Epoch Number = 3, Accuracy: 0.66 \n",
      "Iteration Number = 234, Epoch Number = 3, Accuracy: 0.66 \n",
      "Iteration Number = 235, Epoch Number = 3, Accuracy: 0.66 \n",
      "Iteration Number = 236, Epoch Number = 3, Accuracy: 0.66 \n",
      "Iteration Number = 237, Epoch Number = 3, Accuracy: 0.66 \n",
      "Iteration Number = 238, Epoch Number = 3, Accuracy: 0.66 \n",
      "Iteration Number = 239, Epoch Number = 3, Accuracy: 0.66 \n",
      "Iteration Number = 240, Epoch Number = 3, Accuracy: 0.66 \n",
      "Iteration Number = 241, Epoch Number = 3, Accuracy: 0.66 \n",
      "Iteration Number = 242, Epoch Number = 3, Accuracy: 0.66 \n",
      "Iteration Number = 243, Epoch Number = 3, Accuracy: 0.66 \n",
      "Iteration Number = 244, Epoch Number = 3, Accuracy: 0.66 \n",
      "Iteration Number = 245, Epoch Number = 3, Accuracy: 0.66 \n",
      "Iteration Number = 246, Epoch Number = 3, Accuracy: 0.66 \n",
      "Iteration Number = 247, Epoch Number = 3, Accuracy: 0.66 \n",
      "Iteration Number = 248, Epoch Number = 3, Accuracy: 0.66 \n",
      "Iteration Number = 249, Epoch Number = 3, Accuracy: 0.66 \n",
      "Iteration Number = 250, Epoch Number = 3, Accuracy: 0.66 \n",
      "Iteration Number = 251, Epoch Number = 3, Accuracy: 0.67 \n",
      "Iteration Number = 252, Epoch Number = 3, Accuracy: 0.66 \n",
      "Iteration Number = 253, Epoch Number = 3, Accuracy: 0.66 \n",
      "Iteration Number = 254, Epoch Number = 3, Accuracy: 0.67 \n",
      "Iteration Number = 255, Epoch Number = 3, Accuracy: 0.67 \n",
      "Iteration Number = 256, Epoch Number = 3, Accuracy: 0.67 \n",
      "Iteration Number = 257, Epoch Number = 3, Accuracy: 0.67 \n",
      "Iteration Number = 258, Epoch Number = 3, Accuracy: 0.67 \n",
      "Iteration Number = 259, Epoch Number = 3, Accuracy: 0.67 \n",
      "Iteration Number = 260, Epoch Number = 3, Accuracy: 0.67 \n",
      "Iteration Number = 261, Epoch Number = 3, Accuracy: 0.67 \n",
      "Iteration Number = 262, Epoch Number = 3, Accuracy: 0.68 \n",
      "Iteration Number = 263, Epoch Number = 3, Accuracy: 0.68 \n",
      "Iteration Number = 264, Epoch Number = 3, Accuracy: 0.68 \n",
      "Iteration Number = 265, Epoch Number = 3, Accuracy: 0.68 \n",
      "Iteration Number = 266, Epoch Number = 3, Accuracy: 0.68 \n",
      "Iteration Number = 267, Epoch Number = 3, Accuracy: 0.68 \n",
      "Iteration Number = 268, Epoch Number = 3, Accuracy: 0.68 \n",
      "Iteration Number = 269, Epoch Number = 3, Accuracy: 0.68 \n",
      "Iteration Number = 270, Epoch Number = 3, Accuracy: 0.68 \n",
      "Iteration Number = 271, Epoch Number = 3, Accuracy: 0.68 \n",
      "Iteration Number = 272, Epoch Number = 3, Accuracy: 0.68 \n",
      "Iteration Number = 273, Epoch Number = 3, Accuracy: 0.68 \n",
      "Iteration Number = 274, Epoch Number = 3, Accuracy: 0.69 \n",
      "Iteration Number = 275, Epoch Number = 3, Accuracy: 0.69 \n",
      "Iteration Number = 276, Epoch Number = 3, Accuracy: 0.69 \n",
      "Iteration Number = 277, Epoch Number = 3, Accuracy: 0.69 \n",
      "Iteration Number = 278, Epoch Number = 3, Accuracy: 0.69 \n",
      "Iteration Number = 279, Epoch Number = 3, Accuracy: 0.69 \n",
      "Iteration Number = 280, Epoch Number = 3, Accuracy: 0.69 \n",
      "Iteration Number = 281, Epoch Number = 3, Accuracy: 0.69 \n",
      "Iteration Number = 282, Epoch Number = 3, Accuracy: 0.69 \n",
      "Iteration Number = 283, Epoch Number = 3, Accuracy: 0.69 \n",
      "Iteration Number = 284, Epoch Number = 3, Accuracy: 0.69 \n",
      "Iteration Number = 285, Epoch Number = 3, Accuracy: 0.69 \n",
      "Iteration Number = 286, Epoch Number = 3, Accuracy: 0.70 \n",
      "Iteration Number = 287, Epoch Number = 3, Accuracy: 0.69 \n",
      "Iteration Number = 288, Epoch Number = 3, Accuracy: 0.69 \n",
      "Iteration Number = 289, Epoch Number = 3, Accuracy: 0.69 \n",
      "Iteration Number = 290, Epoch Number = 3, Accuracy: 0.69 \n",
      "Iteration Number = 291, Epoch Number = 3, Accuracy: 0.69 \n",
      "Iteration Number = 292, Epoch Number = 3, Accuracy: 0.70 \n",
      "Iteration Number = 293, Epoch Number = 3, Accuracy: 0.70 \n",
      "Iteration Number = 294, Epoch Number = 3, Accuracy: 0.69 \n",
      "Iteration Number = 295, Epoch Number = 3, Accuracy: 0.69 \n",
      "Iteration Number = 296, Epoch Number = 3, Accuracy: 0.69 \n",
      "Iteration Number = 297, Epoch Number = 3, Accuracy: 0.69 \n",
      "Iteration Number = 298, Epoch Number = 3, Accuracy: 0.69 \n",
      "Iteration Number = 299, Epoch Number = 3, Accuracy: 0.70 \n",
      "Iteration Number = 300, Epoch Number = 3, Accuracy: 0.70 \n",
      "Iteration Number = 301, Epoch Number = 4, Accuracy: 0.70 \n",
      "Iteration Number = 302, Epoch Number = 4, Accuracy: 0.70 \n",
      "Iteration Number = 303, Epoch Number = 4, Accuracy: 0.70 \n",
      "Iteration Number = 304, Epoch Number = 4, Accuracy: 0.70 \n",
      "Iteration Number = 305, Epoch Number = 4, Accuracy: 0.70 \n",
      "Iteration Number = 306, Epoch Number = 4, Accuracy: 0.70 \n",
      "Iteration Number = 307, Epoch Number = 4, Accuracy: 0.70 \n",
      "Iteration Number = 308, Epoch Number = 4, Accuracy: 0.70 \n",
      "Iteration Number = 309, Epoch Number = 4, Accuracy: 0.70 \n",
      "Iteration Number = 310, Epoch Number = 4, Accuracy: 0.70 \n",
      "Iteration Number = 311, Epoch Number = 4, Accuracy: 0.70 \n",
      "Iteration Number = 312, Epoch Number = 4, Accuracy: 0.71 \n",
      "Iteration Number = 313, Epoch Number = 4, Accuracy: 0.71 \n",
      "Iteration Number = 314, Epoch Number = 4, Accuracy: 0.71 \n",
      "Iteration Number = 315, Epoch Number = 4, Accuracy: 0.71 \n",
      "Iteration Number = 316, Epoch Number = 4, Accuracy: 0.71 \n",
      "Iteration Number = 317, Epoch Number = 4, Accuracy: 0.71 \n",
      "Iteration Number = 318, Epoch Number = 4, Accuracy: 0.71 \n",
      "Iteration Number = 319, Epoch Number = 4, Accuracy: 0.71 \n",
      "Iteration Number = 320, Epoch Number = 4, Accuracy: 0.71 \n",
      "Iteration Number = 321, Epoch Number = 4, Accuracy: 0.71 \n",
      "Iteration Number = 322, Epoch Number = 4, Accuracy: 0.71 \n",
      "Iteration Number = 323, Epoch Number = 4, Accuracy: 0.71 \n",
      "Iteration Number = 324, Epoch Number = 4, Accuracy: 0.71 \n",
      "Iteration Number = 325, Epoch Number = 4, Accuracy: 0.71 \n",
      "Iteration Number = 326, Epoch Number = 4, Accuracy: 0.71 \n",
      "Iteration Number = 327, Epoch Number = 4, Accuracy: 0.71 \n",
      "Iteration Number = 328, Epoch Number = 4, Accuracy: 0.71 \n",
      "Iteration Number = 329, Epoch Number = 4, Accuracy: 0.71 \n",
      "Iteration Number = 330, Epoch Number = 4, Accuracy: 0.72 \n",
      "Iteration Number = 331, Epoch Number = 4, Accuracy: 0.71 \n",
      "Iteration Number = 332, Epoch Number = 4, Accuracy: 0.71 \n",
      "Iteration Number = 333, Epoch Number = 4, Accuracy: 0.71 \n",
      "Iteration Number = 334, Epoch Number = 4, Accuracy: 0.71 \n",
      "Iteration Number = 335, Epoch Number = 4, Accuracy: 0.71 \n",
      "Iteration Number = 336, Epoch Number = 4, Accuracy: 0.71 \n",
      "Iteration Number = 337, Epoch Number = 4, Accuracy: 0.71 \n",
      "Iteration Number = 338, Epoch Number = 4, Accuracy: 0.71 \n",
      "Iteration Number = 339, Epoch Number = 4, Accuracy: 0.71 \n",
      "Iteration Number = 340, Epoch Number = 4, Accuracy: 0.71 \n",
      "Iteration Number = 341, Epoch Number = 4, Accuracy: 0.71 \n",
      "Iteration Number = 342, Epoch Number = 4, Accuracy: 0.71 \n",
      "Iteration Number = 343, Epoch Number = 4, Accuracy: 0.71 \n",
      "Iteration Number = 344, Epoch Number = 4, Accuracy: 0.71 \n",
      "Iteration Number = 345, Epoch Number = 4, Accuracy: 0.71 \n",
      "Iteration Number = 346, Epoch Number = 4, Accuracy: 0.71 \n",
      "Iteration Number = 347, Epoch Number = 4, Accuracy: 0.71 \n",
      "Iteration Number = 348, Epoch Number = 4, Accuracy: 0.72 \n",
      "Iteration Number = 349, Epoch Number = 4, Accuracy: 0.72 \n",
      "Iteration Number = 350, Epoch Number = 4, Accuracy: 0.72 \n",
      "Iteration Number = 351, Epoch Number = 4, Accuracy: 0.72 \n",
      "Iteration Number = 352, Epoch Number = 4, Accuracy: 0.72 \n",
      "Iteration Number = 353, Epoch Number = 4, Accuracy: 0.72 \n",
      "Iteration Number = 354, Epoch Number = 4, Accuracy: 0.72 \n",
      "Iteration Number = 355, Epoch Number = 4, Accuracy: 0.72 \n",
      "Iteration Number = 356, Epoch Number = 4, Accuracy: 0.72 \n",
      "Iteration Number = 357, Epoch Number = 4, Accuracy: 0.72 \n",
      "Iteration Number = 358, Epoch Number = 4, Accuracy: 0.72 \n",
      "Iteration Number = 359, Epoch Number = 4, Accuracy: 0.72 \n",
      "Iteration Number = 360, Epoch Number = 4, Accuracy: 0.72 \n",
      "Iteration Number = 361, Epoch Number = 4, Accuracy: 0.72 \n",
      "Iteration Number = 362, Epoch Number = 4, Accuracy: 0.72 \n",
      "Iteration Number = 363, Epoch Number = 4, Accuracy: 0.72 \n",
      "Iteration Number = 364, Epoch Number = 4, Accuracy: 0.73 \n",
      "Iteration Number = 365, Epoch Number = 4, Accuracy: 0.73 \n",
      "Iteration Number = 366, Epoch Number = 4, Accuracy: 0.73 \n",
      "Iteration Number = 367, Epoch Number = 4, Accuracy: 0.72 \n",
      "Iteration Number = 368, Epoch Number = 4, Accuracy: 0.73 \n",
      "Iteration Number = 369, Epoch Number = 4, Accuracy: 0.73 \n",
      "Iteration Number = 370, Epoch Number = 4, Accuracy: 0.73 \n",
      "Iteration Number = 371, Epoch Number = 4, Accuracy: 0.73 \n",
      "Iteration Number = 372, Epoch Number = 4, Accuracy: 0.73 \n",
      "Iteration Number = 373, Epoch Number = 4, Accuracy: 0.73 \n",
      "Iteration Number = 374, Epoch Number = 4, Accuracy: 0.73 \n",
      "Iteration Number = 375, Epoch Number = 4, Accuracy: 0.73 \n",
      "Iteration Number = 376, Epoch Number = 4, Accuracy: 0.73 \n",
      "Iteration Number = 377, Epoch Number = 4, Accuracy: 0.73 \n",
      "Iteration Number = 378, Epoch Number = 4, Accuracy: 0.73 \n",
      "Iteration Number = 379, Epoch Number = 4, Accuracy: 0.73 \n",
      "Iteration Number = 380, Epoch Number = 4, Accuracy: 0.73 \n",
      "Iteration Number = 381, Epoch Number = 4, Accuracy: 0.73 \n",
      "Iteration Number = 382, Epoch Number = 4, Accuracy: 0.73 \n",
      "Iteration Number = 383, Epoch Number = 4, Accuracy: 0.73 \n",
      "Iteration Number = 384, Epoch Number = 4, Accuracy: 0.73 \n",
      "Iteration Number = 385, Epoch Number = 4, Accuracy: 0.74 \n",
      "Iteration Number = 386, Epoch Number = 4, Accuracy: 0.74 \n",
      "Iteration Number = 387, Epoch Number = 4, Accuracy: 0.74 \n",
      "Iteration Number = 388, Epoch Number = 4, Accuracy: 0.73 \n",
      "Iteration Number = 389, Epoch Number = 4, Accuracy: 0.74 \n",
      "Iteration Number = 390, Epoch Number = 4, Accuracy: 0.74 \n",
      "Iteration Number = 391, Epoch Number = 4, Accuracy: 0.74 \n",
      "Iteration Number = 392, Epoch Number = 4, Accuracy: 0.74 \n",
      "Iteration Number = 393, Epoch Number = 4, Accuracy: 0.74 \n",
      "Iteration Number = 394, Epoch Number = 4, Accuracy: 0.74 \n",
      "Iteration Number = 395, Epoch Number = 4, Accuracy: 0.74 \n",
      "Iteration Number = 396, Epoch Number = 4, Accuracy: 0.73 \n",
      "Iteration Number = 397, Epoch Number = 4, Accuracy: 0.74 \n",
      "Iteration Number = 398, Epoch Number = 4, Accuracy: 0.74 \n",
      "Iteration Number = 399, Epoch Number = 4, Accuracy: 0.74 \n",
      "Iteration Number = 400, Epoch Number = 4, Accuracy: 0.74 \n",
      "Iteration Number = 401, Epoch Number = 5, Accuracy: 0.74 \n",
      "Iteration Number = 402, Epoch Number = 5, Accuracy: 0.74 \n",
      "Iteration Number = 403, Epoch Number = 5, Accuracy: 0.74 \n",
      "Iteration Number = 404, Epoch Number = 5, Accuracy: 0.74 \n",
      "Iteration Number = 405, Epoch Number = 5, Accuracy: 0.74 \n",
      "Iteration Number = 406, Epoch Number = 5, Accuracy: 0.74 \n",
      "Iteration Number = 407, Epoch Number = 5, Accuracy: 0.74 \n",
      "Iteration Number = 408, Epoch Number = 5, Accuracy: 0.74 \n",
      "Iteration Number = 409, Epoch Number = 5, Accuracy: 0.74 \n",
      "Iteration Number = 410, Epoch Number = 5, Accuracy: 0.74 \n",
      "Iteration Number = 411, Epoch Number = 5, Accuracy: 0.74 \n",
      "Iteration Number = 412, Epoch Number = 5, Accuracy: 0.74 \n",
      "Iteration Number = 413, Epoch Number = 5, Accuracy: 0.74 \n",
      "Iteration Number = 414, Epoch Number = 5, Accuracy: 0.74 \n",
      "Iteration Number = 415, Epoch Number = 5, Accuracy: 0.74 \n",
      "Iteration Number = 416, Epoch Number = 5, Accuracy: 0.75 \n",
      "Iteration Number = 417, Epoch Number = 5, Accuracy: 0.74 \n",
      "Iteration Number = 418, Epoch Number = 5, Accuracy: 0.74 \n",
      "Iteration Number = 419, Epoch Number = 5, Accuracy: 0.74 \n",
      "Iteration Number = 420, Epoch Number = 5, Accuracy: 0.75 \n",
      "Iteration Number = 421, Epoch Number = 5, Accuracy: 0.75 \n",
      "Iteration Number = 422, Epoch Number = 5, Accuracy: 0.75 \n",
      "Iteration Number = 423, Epoch Number = 5, Accuracy: 0.75 \n",
      "Iteration Number = 424, Epoch Number = 5, Accuracy: 0.75 \n",
      "Iteration Number = 425, Epoch Number = 5, Accuracy: 0.75 \n",
      "Iteration Number = 426, Epoch Number = 5, Accuracy: 0.75 \n",
      "Iteration Number = 427, Epoch Number = 5, Accuracy: 0.75 \n",
      "Iteration Number = 428, Epoch Number = 5, Accuracy: 0.75 \n",
      "Iteration Number = 429, Epoch Number = 5, Accuracy: 0.75 \n",
      "Iteration Number = 430, Epoch Number = 5, Accuracy: 0.75 \n",
      "Iteration Number = 431, Epoch Number = 5, Accuracy: 0.75 \n",
      "Iteration Number = 432, Epoch Number = 5, Accuracy: 0.75 \n",
      "Iteration Number = 433, Epoch Number = 5, Accuracy: 0.75 \n",
      "Iteration Number = 434, Epoch Number = 5, Accuracy: 0.74 \n",
      "Iteration Number = 435, Epoch Number = 5, Accuracy: 0.74 \n",
      "Iteration Number = 436, Epoch Number = 5, Accuracy: 0.75 \n",
      "Iteration Number = 437, Epoch Number = 5, Accuracy: 0.75 \n",
      "Iteration Number = 438, Epoch Number = 5, Accuracy: 0.74 \n",
      "Iteration Number = 439, Epoch Number = 5, Accuracy: 0.74 \n",
      "Iteration Number = 440, Epoch Number = 5, Accuracy: 0.75 \n",
      "Iteration Number = 441, Epoch Number = 5, Accuracy: 0.74 \n",
      "Iteration Number = 442, Epoch Number = 5, Accuracy: 0.74 \n",
      "Iteration Number = 443, Epoch Number = 5, Accuracy: 0.74 \n",
      "Iteration Number = 444, Epoch Number = 5, Accuracy: 0.75 \n",
      "Iteration Number = 445, Epoch Number = 5, Accuracy: 0.75 \n",
      "Iteration Number = 446, Epoch Number = 5, Accuracy: 0.75 \n",
      "Iteration Number = 447, Epoch Number = 5, Accuracy: 0.75 \n",
      "Iteration Number = 448, Epoch Number = 5, Accuracy: 0.75 \n",
      "Iteration Number = 449, Epoch Number = 5, Accuracy: 0.75 \n",
      "Iteration Number = 450, Epoch Number = 5, Accuracy: 0.75 \n",
      "Iteration Number = 451, Epoch Number = 5, Accuracy: 0.75 \n",
      "Iteration Number = 452, Epoch Number = 5, Accuracy: 0.75 \n",
      "Iteration Number = 453, Epoch Number = 5, Accuracy: 0.75 \n",
      "Iteration Number = 454, Epoch Number = 5, Accuracy: 0.75 \n",
      "Iteration Number = 455, Epoch Number = 5, Accuracy: 0.75 \n",
      "Iteration Number = 456, Epoch Number = 5, Accuracy: 0.75 \n",
      "Iteration Number = 457, Epoch Number = 5, Accuracy: 0.75 \n",
      "Iteration Number = 458, Epoch Number = 5, Accuracy: 0.75 \n",
      "Iteration Number = 459, Epoch Number = 5, Accuracy: 0.75 \n",
      "Iteration Number = 460, Epoch Number = 5, Accuracy: 0.75 \n",
      "Iteration Number = 461, Epoch Number = 5, Accuracy: 0.75 \n",
      "Iteration Number = 462, Epoch Number = 5, Accuracy: 0.75 \n",
      "Iteration Number = 463, Epoch Number = 5, Accuracy: 0.75 \n",
      "Iteration Number = 464, Epoch Number = 5, Accuracy: 0.75 \n",
      "Iteration Number = 465, Epoch Number = 5, Accuracy: 0.75 \n",
      "Iteration Number = 466, Epoch Number = 5, Accuracy: 0.76 \n",
      "Iteration Number = 467, Epoch Number = 5, Accuracy: 0.75 \n",
      "Iteration Number = 468, Epoch Number = 5, Accuracy: 0.75 \n",
      "Iteration Number = 469, Epoch Number = 5, Accuracy: 0.75 \n",
      "Iteration Number = 470, Epoch Number = 5, Accuracy: 0.76 \n",
      "Iteration Number = 471, Epoch Number = 5, Accuracy: 0.76 \n",
      "Iteration Number = 472, Epoch Number = 5, Accuracy: 0.76 \n",
      "Iteration Number = 473, Epoch Number = 5, Accuracy: 0.76 \n",
      "Iteration Number = 474, Epoch Number = 5, Accuracy: 0.76 \n",
      "Iteration Number = 475, Epoch Number = 5, Accuracy: 0.76 \n",
      "Iteration Number = 476, Epoch Number = 5, Accuracy: 0.76 \n",
      "Iteration Number = 477, Epoch Number = 5, Accuracy: 0.76 \n",
      "Iteration Number = 478, Epoch Number = 5, Accuracy: 0.76 \n",
      "Iteration Number = 479, Epoch Number = 5, Accuracy: 0.76 \n",
      "Iteration Number = 480, Epoch Number = 5, Accuracy: 0.76 \n",
      "Iteration Number = 481, Epoch Number = 5, Accuracy: 0.76 \n",
      "Iteration Number = 482, Epoch Number = 5, Accuracy: 0.76 \n",
      "Iteration Number = 483, Epoch Number = 5, Accuracy: 0.76 \n",
      "Iteration Number = 484, Epoch Number = 5, Accuracy: 0.76 \n",
      "Iteration Number = 485, Epoch Number = 5, Accuracy: 0.76 \n",
      "Iteration Number = 486, Epoch Number = 5, Accuracy: 0.76 \n",
      "Iteration Number = 487, Epoch Number = 5, Accuracy: 0.76 \n",
      "Iteration Number = 488, Epoch Number = 5, Accuracy: 0.76 \n",
      "Iteration Number = 489, Epoch Number = 5, Accuracy: 0.76 \n",
      "Iteration Number = 490, Epoch Number = 5, Accuracy: 0.76 \n",
      "Iteration Number = 491, Epoch Number = 5, Accuracy: 0.76 \n",
      "Iteration Number = 492, Epoch Number = 5, Accuracy: 0.76 \n",
      "Iteration Number = 493, Epoch Number = 5, Accuracy: 0.76 \n",
      "Iteration Number = 494, Epoch Number = 5, Accuracy: 0.76 \n",
      "Iteration Number = 495, Epoch Number = 5, Accuracy: 0.76 \n",
      "Iteration Number = 496, Epoch Number = 5, Accuracy: 0.76 \n",
      "Iteration Number = 497, Epoch Number = 5, Accuracy: 0.76 \n",
      "Iteration Number = 498, Epoch Number = 5, Accuracy: 0.76 \n",
      "Iteration Number = 499, Epoch Number = 5, Accuracy: 0.76 \n",
      "Iteration Number = 500, Epoch Number = 5, Accuracy: 0.76 \n"
     ]
    }
   ],
   "source": [
    "#sequential model\n",
    "\n",
    "seq_acc_scores,epoch,seq_w_ = seq_model(X,Y,learning_rate,number_of_iteration,seq_w_)"
   ]
  },
  {
   "cell_type": "code",
   "execution_count": 557,
   "metadata": {},
   "outputs": [
    {
     "data": {
      "image/png": "[encoded data removed]",
      "text/plain": [
       "<Figure size 720x576 with 1 Axes>"
      ]
     },
     "metadata": {
      "needs_background": "light"
     },
     "output_type": "display_data"
    }
   ],
   "source": [
    "#visualization of sequential mode\n",
    "\n",
    "plt.figure(figsize = (10,8))\n",
    "plt.plot(np.arange(1,number_of_iteration+1),np.array(seq_acc_scores))\n",
    "plt.title(\"Number Of Epoch is = %i\"% (epoch));"
   ]
  },
  {
   "cell_type": "markdown",
   "metadata": {},
   "source": [
    "## QUESTION 3"
   ]
  },
  {
   "cell_type": "markdown",
   "metadata": {},
   "source": [
    "### BATCH MODE"
   ]
  },
  {
   "cell_type": "code",
   "execution_count": 558,
   "metadata": {},
   "outputs": [],
   "source": [
    "batch_w = np.full((df.shape[1] - 1,1),0.001) #weights of batch mode\n",
    "\n",
    "batch_bias = 0.05 #bias term of batch mode\n",
    "\n",
    "batch_w_ = np.concatenate([[[batch_bias]],batch_w],axis = 0) #vector form of weights\n",
    "\n",
    "number_of_iteration_batch = 20\n",
    "\n",
    "batch_acc_scores = []"
   ]
  },
  {
   "cell_type": "code",
   "execution_count": 559,
   "metadata": {},
   "outputs": [
    {
     "name": "stdout",
     "output_type": "stream",
     "text": [
      "Accuracy without training in batch mode = 0.51\n"
     ]
    }
   ],
   "source": [
    "#accuracy without training\n",
    "\n",
    "y_head_batch = X_.dot(batch_w_)\n",
    "\n",
    "y_pred_batch = np.array(list(map(filter_,y_head_batch[0,:])))\n",
    "\n",
    "correct_list_batch = (y_pred_batch == Y)\n",
    "\n",
    "correct_size_batch = len(correct_list_batch[correct_list_batch == True])\n",
    "\n",
    "print(\"Accuracy without training in batch mode = %.2f\" % (correct_size_batch/number_of_data))"
   ]
  },
  {
   "cell_type": "code",
   "execution_count": 560,
   "metadata": {},
   "outputs": [],
   "source": [
    "# forward propagation of batch mode\n",
    "\n",
    "def batch_forward_propagation(batch_w_,X):\n",
    "    y_head = np.dot(batch_w_.T,X) \n",
    "    return y_head"
   ]
  },
  {
   "cell_type": "code",
   "execution_count": 561,
   "metadata": {},
   "outputs": [],
   "source": [
    "\n",
    "def batch_model(X, Y, learning_rate,number_of_iterarion_batch,batch_w_):\n",
    "\n",
    "    epoch = number_of_iterarion_batch # we know that epoch number of batch model is equal to number_of_iterarion_batch,because we send all of the data  \n",
    "    \n",
    "    for i in range(1,number_of_iterarion_batch + 1):\n",
    "        \n",
    "        columns = X.to_numpy()[:].T #arranging of X vector\n",
    "        X_columns = np.concatenate([np.ones((1,X.shape[0])),columns],axis = 0) # arranging of X vector\n",
    "        \n",
    "        y_head = batch_forward_propagation(batch_w_,X_columns) # results of batch mode\n",
    "        y_pred = np.array(list(map(filter_,y_head[0,:]))) # filtering for compare actual result\n",
    "        \n",
    "        correct_list = (y_pred == Y) # comparing with actual results\n",
    "        correct_size = len(correct_list[correct_list == True])\n",
    "        accuracy = correct_size / number_of_data #getting accuracy\n",
    "        \n",
    "        batch_acc_scores.append(accuracy)\n",
    "        print (\"Iteration Number = %i, Epoch Number = %i, accuracy = %.2f \" %(i,i,accuracy))\n",
    "        batch_w_ = batch_w_ - (learning_rate * ((np.sum(y_head - Y))) * X_columns)/number_of_data #updating weights\n",
    "            \n",
    "    return batch_acc_scores,epoch,batch_w_\n"
   ]
  },
  {
   "cell_type": "code",
   "execution_count": 562,
   "metadata": {},
   "outputs": [
    {
     "name": "stdout",
     "output_type": "stream",
     "text": [
      "Iteration Number = 1, Epoch Number = 1, accuracy = 0.51 \n",
      "Iteration Number = 2, Epoch Number = 2, accuracy = 0.51 \n",
      "Iteration Number = 3, Epoch Number = 3, accuracy = 0.59 \n",
      "Iteration Number = 4, Epoch Number = 4, accuracy = 0.71 \n",
      "Iteration Number = 5, Epoch Number = 5, accuracy = 0.79 \n",
      "Iteration Number = 6, Epoch Number = 6, accuracy = 0.81 \n",
      "Iteration Number = 7, Epoch Number = 7, accuracy = 0.82 \n",
      "Iteration Number = 8, Epoch Number = 8, accuracy = 0.82 \n",
      "Iteration Number = 9, Epoch Number = 9, accuracy = 0.83 \n",
      "Iteration Number = 10, Epoch Number = 10, accuracy = 0.84 \n",
      "Iteration Number = 11, Epoch Number = 11, accuracy = 0.86 \n",
      "Iteration Number = 12, Epoch Number = 12, accuracy = 0.86 \n",
      "Iteration Number = 13, Epoch Number = 13, accuracy = 0.87 \n",
      "Iteration Number = 14, Epoch Number = 14, accuracy = 0.87 \n",
      "Iteration Number = 15, Epoch Number = 15, accuracy = 0.87 \n",
      "Iteration Number = 16, Epoch Number = 16, accuracy = 0.87 \n",
      "Iteration Number = 17, Epoch Number = 17, accuracy = 0.86 \n",
      "Iteration Number = 18, Epoch Number = 18, accuracy = 0.86 \n",
      "Iteration Number = 19, Epoch Number = 19, accuracy = 0.88 \n",
      "Iteration Number = 20, Epoch Number = 20, accuracy = 0.88 \n"
     ]
    }
   ],
   "source": [
    "batch_acc_scores,epoch,batch_w_ = batch_model(X,Y,learning_rate,number_of_iteration_batch,batch_w_)"
   ]
  },
  {
   "cell_type": "code",
   "execution_count": 563,
   "metadata": {},
   "outputs": [
    {
     "data": {
      "image/png": "[encoded data removed]",
      "text/plain": [
       "<Figure size 720x576 with 1 Axes>"
      ]
     },
     "metadata": {
      "needs_background": "light"
     },
     "output_type": "display_data"
    }
   ],
   "source": [
    "#visualization of batch mode\n",
    "plt.figure(figsize = (10,8))\n",
    "plt.plot(np.arange(1,number_of_iteration_batch+1),np.array(batch_acc_scores))\n",
    "plt.title(\"Number Of Epoch is = %i\"% (epoch));"
   ]
  },
  {
   "cell_type": "markdown",
   "metadata": {},
   "source": [
    "## QUESTION 4"
   ]
  },
  {
   "cell_type": "markdown",
   "metadata": {},
   "source": [
    "### MINI BATCH"
   ]
  },
  {
   "cell_type": "code",
   "execution_count": 564,
   "metadata": {},
   "outputs": [],
   "source": [
    "m_batch_w = np.full((df.shape[1] - 1,1),0.0001) #weights of mini batch\n",
    "\n",
    "m_batch_bias = 0.005 #bias term of mini batch\n",
    "\n",
    "m_batch_w_ = np.concatenate([[[m_batch_bias]],m_batch_w],axis = 0) #vector form of weights\n",
    "\n",
    "number_of_iteration_m = 100\n",
    "\n",
    "batch_size = 10\n",
    "\n",
    "m_batch_acc_scores = []"
   ]
  },
  {
   "cell_type": "code",
   "execution_count": 565,
   "metadata": {},
   "outputs": [
    {
     "name": "stdout",
     "output_type": "stream",
     "text": [
      "Accuracy without training in mini batch mode = 0.51\n"
     ]
    }
   ],
   "source": [
    "#accuracy without training\n",
    "\n",
    "y_head_mbatch = X_.dot(m_batch_w_)\n",
    "\n",
    "y_pred_mbatch = np.array(list(map(filter_,y_head_mbatch[0,:])))\n",
    "\n",
    "correct_list_mbatch = (y_pred_mbatch == Y)\n",
    "\n",
    "correct_size_mbatch = len(correct_list_mbatch[correct_list_mbatch == True])\n",
    "\n",
    "print(\"Accuracy without training in mini batch mode = %.2f\" % (correct_size_mbatch/number_of_data))"
   ]
  },
  {
   "cell_type": "code",
   "execution_count": 566,
   "metadata": {},
   "outputs": [],
   "source": [
    "# forward propagation of batch mode\n",
    "\n",
    "def m_batch_forward_propagation(m_batch_w_,X):\n",
    "    y_head = np.dot(m_batch_w_.T,X) \n",
    "    return y_head"
   ]
  },
  {
   "cell_type": "code",
   "execution_count": 567,
   "metadata": {},
   "outputs": [],
   "source": [
    "def m_batch_model(X, Y, learning_rate,number_of_iterarion_m,batch_size,m_batch_w_):\n",
    "    epoch = 0\n",
    "    correct = 0\n",
    "    start_index = 0 #start index of evaluated data\n",
    "    end_index = batch_size # end index of evaluated data\n",
    "    number_evaluated_data = 0\n",
    "    for i in range(1,number_of_iterarion_m + 1):\n",
    "        \n",
    "        columns = X.to_numpy()[start_index:end_index,:].T # arranging of X vector\n",
    "        X_columns = np.concatenate([np.ones((1,batch_size)),columns],axis = 0) # arranging of X vector\n",
    "        \n",
    "        y_head = m_batch_forward_propagation(m_batch_w_,X_columns) # results of batch mode\n",
    "        y_pred = np.array(list(map(filter_,y_head[0,:]))) # filtering for compare actual result\n",
    "        \n",
    "        correct_list = (y_pred == Y[start_index:end_index]) # comparing with actual results\n",
    "        correct_size = len(correct_list[correct_list == True])\n",
    "        \n",
    "        number_evaluated_data += batch_size\n",
    "        correct += correct_size\n",
    "        accuracy = correct / number_evaluated_data #getting accuracy\n",
    "        \n",
    "        print (\"Iteration Number = %i, Epoch Number = %i, Accuracy: %.2f \" %(i, epoch + 1,(accuracy)))\n",
    "        m_batch_acc_scores.append(accuracy)\n",
    "        \n",
    "        m_batch_w_ = m_batch_w_ - (learning_rate * (np.sum(y_head - Y[start_index:end_index])) * X_columns)/batch_size #updating weights\n",
    "\n",
    "        start_index += batch_size\n",
    "        end_index += batch_size          \n",
    "        \n",
    "        if number_evaluated_data % 100 == 0:\n",
    "            epoch += 1\n",
    "            start_index = 0\n",
    "            end_index = batch_size\n",
    "        \n",
    "    return m_batch_acc_scores,epoch,m_batch_w_"
   ]
  },
  {
   "cell_type": "code",
   "execution_count": 568,
   "metadata": {
    "collapsed": true,
    "jupyter": {
     "outputs_hidden": true
    }
   },
   "outputs": [
    {
     "name": "stdout",
     "output_type": "stream",
     "text": [
      "Iteration Number = 1, Epoch Number = 1, Accuracy: 0.60 \n",
      "Iteration Number = 2, Epoch Number = 1, Accuracy: 0.70 \n",
      "Iteration Number = 3, Epoch Number = 1, Accuracy: 0.70 \n",
      "Iteration Number = 4, Epoch Number = 1, Accuracy: 0.68 \n",
      "Iteration Number = 5, Epoch Number = 1, Accuracy: 0.72 \n",
      "Iteration Number = 6, Epoch Number = 1, Accuracy: 0.77 \n",
      "Iteration Number = 7, Epoch Number = 1, Accuracy: 0.77 \n",
      "Iteration Number = 8, Epoch Number = 1, Accuracy: 0.79 \n",
      "Iteration Number = 9, Epoch Number = 1, Accuracy: 0.78 \n",
      "Iteration Number = 10, Epoch Number = 1, Accuracy: 0.78 \n",
      "Iteration Number = 11, Epoch Number = 2, Accuracy: 0.78 \n",
      "Iteration Number = 12, Epoch Number = 2, Accuracy: 0.78 \n",
      "Iteration Number = 13, Epoch Number = 2, Accuracy: 0.78 \n",
      "Iteration Number = 14, Epoch Number = 2, Accuracy: 0.76 \n",
      "Iteration Number = 15, Epoch Number = 2, Accuracy: 0.77 \n",
      "Iteration Number = 16, Epoch Number = 2, Accuracy: 0.79 \n",
      "Iteration Number = 17, Epoch Number = 2, Accuracy: 0.78 \n",
      "Iteration Number = 18, Epoch Number = 2, Accuracy: 0.78 \n",
      "Iteration Number = 19, Epoch Number = 2, Accuracy: 0.78 \n",
      "Iteration Number = 20, Epoch Number = 2, Accuracy: 0.78 \n",
      "Iteration Number = 21, Epoch Number = 3, Accuracy: 0.78 \n",
      "Iteration Number = 22, Epoch Number = 3, Accuracy: 0.78 \n",
      "Iteration Number = 23, Epoch Number = 3, Accuracy: 0.77 \n",
      "Iteration Number = 24, Epoch Number = 3, Accuracy: 0.77 \n",
      "Iteration Number = 25, Epoch Number = 3, Accuracy: 0.77 \n",
      "Iteration Number = 26, Epoch Number = 3, Accuracy: 0.78 \n",
      "Iteration Number = 27, Epoch Number = 3, Accuracy: 0.77 \n",
      "Iteration Number = 28, Epoch Number = 3, Accuracy: 0.78 \n",
      "Iteration Number = 29, Epoch Number = 3, Accuracy: 0.77 \n",
      "Iteration Number = 30, Epoch Number = 3, Accuracy: 0.77 \n",
      "Iteration Number = 31, Epoch Number = 4, Accuracy: 0.77 \n",
      "Iteration Number = 32, Epoch Number = 4, Accuracy: 0.78 \n",
      "Iteration Number = 33, Epoch Number = 4, Accuracy: 0.77 \n",
      "Iteration Number = 34, Epoch Number = 4, Accuracy: 0.77 \n",
      "Iteration Number = 35, Epoch Number = 4, Accuracy: 0.77 \n",
      "Iteration Number = 36, Epoch Number = 4, Accuracy: 0.78 \n",
      "Iteration Number = 37, Epoch Number = 4, Accuracy: 0.78 \n",
      "Iteration Number = 38, Epoch Number = 4, Accuracy: 0.78 \n",
      "Iteration Number = 39, Epoch Number = 4, Accuracy: 0.77 \n",
      "Iteration Number = 40, Epoch Number = 4, Accuracy: 0.77 \n",
      "Iteration Number = 41, Epoch Number = 5, Accuracy: 0.77 \n",
      "Iteration Number = 42, Epoch Number = 5, Accuracy: 0.78 \n",
      "Iteration Number = 43, Epoch Number = 5, Accuracy: 0.77 \n",
      "Iteration Number = 44, Epoch Number = 5, Accuracy: 0.77 \n",
      "Iteration Number = 45, Epoch Number = 5, Accuracy: 0.77 \n",
      "Iteration Number = 46, Epoch Number = 5, Accuracy: 0.78 \n",
      "Iteration Number = 47, Epoch Number = 5, Accuracy: 0.78 \n",
      "Iteration Number = 48, Epoch Number = 5, Accuracy: 0.78 \n",
      "Iteration Number = 49, Epoch Number = 5, Accuracy: 0.78 \n",
      "Iteration Number = 50, Epoch Number = 5, Accuracy: 0.77 \n",
      "Iteration Number = 51, Epoch Number = 6, Accuracy: 0.77 \n",
      "Iteration Number = 52, Epoch Number = 6, Accuracy: 0.78 \n",
      "Iteration Number = 53, Epoch Number = 6, Accuracy: 0.78 \n",
      "Iteration Number = 54, Epoch Number = 6, Accuracy: 0.77 \n",
      "Iteration Number = 55, Epoch Number = 6, Accuracy: 0.77 \n",
      "Iteration Number = 56, Epoch Number = 6, Accuracy: 0.78 \n",
      "Iteration Number = 57, Epoch Number = 6, Accuracy: 0.78 \n",
      "Iteration Number = 58, Epoch Number = 6, Accuracy: 0.78 \n",
      "Iteration Number = 59, Epoch Number = 6, Accuracy: 0.78 \n",
      "Iteration Number = 60, Epoch Number = 6, Accuracy: 0.78 \n",
      "Iteration Number = 61, Epoch Number = 7, Accuracy: 0.78 \n",
      "Iteration Number = 62, Epoch Number = 7, Accuracy: 0.78 \n",
      "Iteration Number = 63, Epoch Number = 7, Accuracy: 0.78 \n",
      "Iteration Number = 64, Epoch Number = 7, Accuracy: 0.78 \n",
      "Iteration Number = 65, Epoch Number = 7, Accuracy: 0.78 \n",
      "Iteration Number = 66, Epoch Number = 7, Accuracy: 0.78 \n",
      "Iteration Number = 67, Epoch Number = 7, Accuracy: 0.78 \n",
      "Iteration Number = 68, Epoch Number = 7, Accuracy: 0.78 \n",
      "Iteration Number = 69, Epoch Number = 7, Accuracy: 0.78 \n",
      "Iteration Number = 70, Epoch Number = 7, Accuracy: 0.78 \n",
      "Iteration Number = 71, Epoch Number = 8, Accuracy: 0.78 \n",
      "Iteration Number = 72, Epoch Number = 8, Accuracy: 0.78 \n",
      "Iteration Number = 73, Epoch Number = 8, Accuracy: 0.78 \n",
      "Iteration Number = 74, Epoch Number = 8, Accuracy: 0.78 \n",
      "Iteration Number = 75, Epoch Number = 8, Accuracy: 0.78 \n",
      "Iteration Number = 76, Epoch Number = 8, Accuracy: 0.78 \n",
      "Iteration Number = 77, Epoch Number = 8, Accuracy: 0.78 \n",
      "Iteration Number = 78, Epoch Number = 8, Accuracy: 0.78 \n",
      "Iteration Number = 79, Epoch Number = 8, Accuracy: 0.78 \n",
      "Iteration Number = 80, Epoch Number = 8, Accuracy: 0.78 \n",
      "Iteration Number = 81, Epoch Number = 9, Accuracy: 0.78 \n",
      "Iteration Number = 82, Epoch Number = 9, Accuracy: 0.78 \n",
      "Iteration Number = 83, Epoch Number = 9, Accuracy: 0.78 \n",
      "Iteration Number = 84, Epoch Number = 9, Accuracy: 0.78 \n",
      "Iteration Number = 85, Epoch Number = 9, Accuracy: 0.78 \n",
      "Iteration Number = 86, Epoch Number = 9, Accuracy: 0.78 \n",
      "Iteration Number = 87, Epoch Number = 9, Accuracy: 0.78 \n",
      "Iteration Number = 88, Epoch Number = 9, Accuracy: 0.78 \n",
      "Iteration Number = 89, Epoch Number = 9, Accuracy: 0.78 \n",
      "Iteration Number = 90, Epoch Number = 9, Accuracy: 0.78 \n",
      "Iteration Number = 91, Epoch Number = 10, Accuracy: 0.78 \n",
      "Iteration Number = 92, Epoch Number = 10, Accuracy: 0.78 \n",
      "Iteration Number = 93, Epoch Number = 10, Accuracy: 0.78 \n",
      "Iteration Number = 94, Epoch Number = 10, Accuracy: 0.78 \n",
      "Iteration Number = 95, Epoch Number = 10, Accuracy: 0.78 \n",
      "Iteration Number = 96, Epoch Number = 10, Accuracy: 0.78 \n",
      "Iteration Number = 97, Epoch Number = 10, Accuracy: 0.78 \n",
      "Iteration Number = 98, Epoch Number = 10, Accuracy: 0.78 \n",
      "Iteration Number = 99, Epoch Number = 10, Accuracy: 0.78 \n",
      "Iteration Number = 100, Epoch Number = 10, Accuracy: 0.78 \n"
     ]
    }
   ],
   "source": [
    "m_batch_acc_scores,epoch,m_batch_w_ = m_batch_model(X,Y,learning_rate,number_of_iteration_m,batch_size,m_batch_w_)"
   ]
  },
  {
   "cell_type": "code",
   "execution_count": 569,
   "metadata": {},
   "outputs": [
    {
     "data": {
      "image/png": "[encoded data removed]",
      "text/plain": [
       "<Figure size 720x576 with 1 Axes>"
      ]
     },
     "metadata": {
      "needs_background": "light"
     },
     "output_type": "display_data"
    }
   ],
   "source": [
    "plt.figure(figsize = (10,8))\n",
    "plt.plot(np.arange(1,number_of_iteration_m+1),np.array(m_batch_acc_scores))\n",
    "plt.title(\"Number Of Epoch is = %i\"% (epoch));"
   ]
  },
  {
   "cell_type": "markdown",
   "metadata": {},
   "source": [
    "## QUESTION 5"
   ]
  },
  {
   "cell_type": "code",
   "execution_count": 570,
   "metadata": {},
   "outputs": [
    {
     "data": {
      "text/plain": [
       "LinearRegression(copy_X=True, fit_intercept=True, n_jobs=None, normalize=False)"
      ]
     },
     "execution_count": 570,
     "metadata": {},
     "output_type": "execute_result"
    }
   ],
   "source": [
    "from sklearn.linear_model import LinearRegression\n",
    "\n",
    "lin_reg = LinearRegression()\n",
    "lin_reg.fit(X, Y)"
   ]
  },
  {
   "cell_type": "code",
   "execution_count": 571,
   "metadata": {},
   "outputs": [
    {
     "name": "stdout",
     "output_type": "stream",
     "text": [
      "Bias term(W0) of linear regression: 0.06\n",
      "W1 of linear regression: 0.27\n",
      "W2 of linear regression: -0.02\n"
     ]
    }
   ],
   "source": [
    "print(\"Bias term(W0) of linear regression: %.2f\" % (lin_reg.intercept_))\n",
    "\n",
    "print(\"W1 of linear regression: %.2f\" % (lin_reg.coef_[0]))\n",
    "print(\"W2 of linear regression: %.2f\" % (lin_reg.coef_[1]))"
   ]
  },
  {
   "cell_type": "code",
   "execution_count": 576,
   "metadata": {},
   "outputs": [
    {
     "name": "stdout",
     "output_type": "stream",
     "text": [
      "Bias term(W0) of sequential mode: 0.33\n",
      "W1 of sequential mode: 0.27\n",
      "W2 of sequential mode: -0.01\n"
     ]
    }
   ],
   "source": [
    "print(\"Bias term(W0) of sequential mode: %.2f\" % (seq_w_[0]))\n",
    "\n",
    "print(\"W1 of sequential mode: %.2f\" % (seq_w_[1]))\n",
    "print(\"W2 of sequential mode: %.2f\" % (seq_w_[2]))"
   ]
  },
  {
   "cell_type": "code",
   "execution_count": 577,
   "metadata": {},
   "outputs": [
    {
     "name": "stdout",
     "output_type": "stream",
     "text": [
      "Bias term(W0) of batch mode: 0.03\n",
      "W1 of batch mode: 0.08\n",
      "W2 of batch mode: -0.04\n"
     ]
    }
   ],
   "source": [
    "print(\"Bias term(W0) of batch mode: %.2f\" % (batch_w_[0][0]))\n",
    "\n",
    "print(\"W1 of batch mode: %.2f\" % (batch_w_[1][0]))\n",
    "print(\"W2 of batch mode: %.2f\" % (batch_w_[2][0]))"
   ]
  },
  {
   "cell_type": "code",
   "execution_count": 578,
   "metadata": {},
   "outputs": [
    {
     "name": "stdout",
     "output_type": "stream",
     "text": [
      "Bias term(W0) of mini batch mode: 0.02\n",
      "W1 of mini batch mode: 0.34\n",
      "W2 of mini batch mode: 0.25\n"
     ]
    }
   ],
   "source": [
    "print(\"Bias term(W0) of mini batch mode: %.2f\" % (m_batch_w_[0][0]))\n",
    "\n",
    "print(\"W1 of mini batch mode: %.2f\" % (m_batch_w_[1][0]))\n",
    "print(\"W2 of mini batch mode: %.2f\" % (m_batch_w_[2][0]))"
   ]
  }
 ],
 "metadata": {
  "kernelspec": {
   "display_name": "Python 3",
   "language": "python",
   "name": "python3"
  },
  "language_info": {
   "codemirror_mode": {
    "name": "ipython",
    "version": 3
   },
   "file_extension": ".py",
   "mimetype": "text/x-python",
   "name": "python",
   "nbconvert_exporter": "python",
   "pygments_lexer": "ipython3",
   "version": "3.7.6"
  }
 },
 "nbformat": 4,
 "nbformat_minor": 4
}
